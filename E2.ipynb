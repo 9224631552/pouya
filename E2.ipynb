{
  "nbformat": 4,
  "nbformat_minor": 0,
  "metadata": {
    "colab": {
      "provenance": []
    },
    "kernelspec": {
      "name": "python3",
      "display_name": "Python 3"
    },
    "language_info": {
      "name": "python"
    }
  },
  "cells": [
    {
      "cell_type": "code",
      "source": [
        "import numpy as np\n",
        "import pandas as pd"
      ],
      "metadata": {
        "id": "FWUIj-tL0t9a"
      },
      "execution_count": 1,
      "outputs": []
    },
    {
      "cell_type": "code",
      "source": [
        "train1 = pd.read_csv(\"train.csv\")\n",
        "train1.head()"
      ],
      "metadata": {
        "colab": {
          "base_uri": "https://localhost:8080/",
          "height": 206
        },
        "id": "JxPIZFdR00ho",
        "outputId": "9b93cdb5-93f0-489e-fa73-3ff67b14f8ef"
      },
      "execution_count": 97,
      "outputs": [
        {
          "output_type": "execute_result",
          "data": {
            "text/plain": [
              "   userId  itemId  rating                 date\n",
              "0  cgexjc  682978       4  2017-08-13 13:23:35\n",
              "1  cgexjc  320898       4  2019-01-18 15:56:07\n",
              "2  cgexjc   29028       4  2017-08-13 14:03:55\n",
              "3  cgexjc  399148       5  2017-08-13 13:59:51\n",
              "4  cgexjc  734055       4  2019-01-18 15:37:29"
            ],
            "text/html": [
              "\n",
              "  <div id=\"df-1e08b594-8876-46f1-9268-dc2d1e5e2721\">\n",
              "    <div class=\"colab-df-container\">\n",
              "      <div>\n",
              "<style scoped>\n",
              "    .dataframe tbody tr th:only-of-type {\n",
              "        vertical-align: middle;\n",
              "    }\n",
              "\n",
              "    .dataframe tbody tr th {\n",
              "        vertical-align: top;\n",
              "    }\n",
              "\n",
              "    .dataframe thead th {\n",
              "        text-align: right;\n",
              "    }\n",
              "</style>\n",
              "<table border=\"1\" class=\"dataframe\">\n",
              "  <thead>\n",
              "    <tr style=\"text-align: right;\">\n",
              "      <th></th>\n",
              "      <th>userId</th>\n",
              "      <th>itemId</th>\n",
              "      <th>rating</th>\n",
              "      <th>date</th>\n",
              "    </tr>\n",
              "  </thead>\n",
              "  <tbody>\n",
              "    <tr>\n",
              "      <th>0</th>\n",
              "      <td>cgexjc</td>\n",
              "      <td>682978</td>\n",
              "      <td>4</td>\n",
              "      <td>2017-08-13 13:23:35</td>\n",
              "    </tr>\n",
              "    <tr>\n",
              "      <th>1</th>\n",
              "      <td>cgexjc</td>\n",
              "      <td>320898</td>\n",
              "      <td>4</td>\n",
              "      <td>2019-01-18 15:56:07</td>\n",
              "    </tr>\n",
              "    <tr>\n",
              "      <th>2</th>\n",
              "      <td>cgexjc</td>\n",
              "      <td>29028</td>\n",
              "      <td>4</td>\n",
              "      <td>2017-08-13 14:03:55</td>\n",
              "    </tr>\n",
              "    <tr>\n",
              "      <th>3</th>\n",
              "      <td>cgexjc</td>\n",
              "      <td>399148</td>\n",
              "      <td>5</td>\n",
              "      <td>2017-08-13 13:59:51</td>\n",
              "    </tr>\n",
              "    <tr>\n",
              "      <th>4</th>\n",
              "      <td>cgexjc</td>\n",
              "      <td>734055</td>\n",
              "      <td>4</td>\n",
              "      <td>2019-01-18 15:37:29</td>\n",
              "    </tr>\n",
              "  </tbody>\n",
              "</table>\n",
              "</div>\n",
              "      <button class=\"colab-df-convert\" onclick=\"convertToInteractive('df-1e08b594-8876-46f1-9268-dc2d1e5e2721')\"\n",
              "              title=\"Convert this dataframe to an interactive table.\"\n",
              "              style=\"display:none;\">\n",
              "        \n",
              "  <svg xmlns=\"http://www.w3.org/2000/svg\" height=\"24px\"viewBox=\"0 0 24 24\"\n",
              "       width=\"24px\">\n",
              "    <path d=\"M0 0h24v24H0V0z\" fill=\"none\"/>\n",
              "    <path d=\"M18.56 5.44l.94 2.06.94-2.06 2.06-.94-2.06-.94-.94-2.06-.94 2.06-2.06.94zm-11 1L8.5 8.5l.94-2.06 2.06-.94-2.06-.94L8.5 2.5l-.94 2.06-2.06.94zm10 10l.94 2.06.94-2.06 2.06-.94-2.06-.94-.94-2.06-.94 2.06-2.06.94z\"/><path d=\"M17.41 7.96l-1.37-1.37c-.4-.4-.92-.59-1.43-.59-.52 0-1.04.2-1.43.59L10.3 9.45l-7.72 7.72c-.78.78-.78 2.05 0 2.83L4 21.41c.39.39.9.59 1.41.59.51 0 1.02-.2 1.41-.59l7.78-7.78 2.81-2.81c.8-.78.8-2.07 0-2.86zM5.41 20L4 18.59l7.72-7.72 1.47 1.35L5.41 20z\"/>\n",
              "  </svg>\n",
              "      </button>\n",
              "      \n",
              "  <style>\n",
              "    .colab-df-container {\n",
              "      display:flex;\n",
              "      flex-wrap:wrap;\n",
              "      gap: 12px;\n",
              "    }\n",
              "\n",
              "    .colab-df-convert {\n",
              "      background-color: #E8F0FE;\n",
              "      border: none;\n",
              "      border-radius: 50%;\n",
              "      cursor: pointer;\n",
              "      display: none;\n",
              "      fill: #1967D2;\n",
              "      height: 32px;\n",
              "      padding: 0 0 0 0;\n",
              "      width: 32px;\n",
              "    }\n",
              "\n",
              "    .colab-df-convert:hover {\n",
              "      background-color: #E2EBFA;\n",
              "      box-shadow: 0px 1px 2px rgba(60, 64, 67, 0.3), 0px 1px 3px 1px rgba(60, 64, 67, 0.15);\n",
              "      fill: #174EA6;\n",
              "    }\n",
              "\n",
              "    [theme=dark] .colab-df-convert {\n",
              "      background-color: #3B4455;\n",
              "      fill: #D2E3FC;\n",
              "    }\n",
              "\n",
              "    [theme=dark] .colab-df-convert:hover {\n",
              "      background-color: #434B5C;\n",
              "      box-shadow: 0px 1px 3px 1px rgba(0, 0, 0, 0.15);\n",
              "      filter: drop-shadow(0px 1px 2px rgba(0, 0, 0, 0.3));\n",
              "      fill: #FFFFFF;\n",
              "    }\n",
              "  </style>\n",
              "\n",
              "      <script>\n",
              "        const buttonEl =\n",
              "          document.querySelector('#df-1e08b594-8876-46f1-9268-dc2d1e5e2721 button.colab-df-convert');\n",
              "        buttonEl.style.display =\n",
              "          google.colab.kernel.accessAllowed ? 'block' : 'none';\n",
              "\n",
              "        async function convertToInteractive(key) {\n",
              "          const element = document.querySelector('#df-1e08b594-8876-46f1-9268-dc2d1e5e2721');\n",
              "          const dataTable =\n",
              "            await google.colab.kernel.invokeFunction('convertToInteractive',\n",
              "                                                     [key], {});\n",
              "          if (!dataTable) return;\n",
              "\n",
              "          const docLinkHtml = 'Like what you see? Visit the ' +\n",
              "            '<a target=\"_blank\" href=https://colab.research.google.com/notebooks/data_table.ipynb>data table notebook</a>'\n",
              "            + ' to learn more about interactive tables.';\n",
              "          element.innerHTML = '';\n",
              "          dataTable['output_type'] = 'display_data';\n",
              "          await google.colab.output.renderOutput(dataTable, element);\n",
              "          const docLink = document.createElement('div');\n",
              "          docLink.innerHTML = docLinkHtml;\n",
              "          element.appendChild(docLink);\n",
              "        }\n",
              "      </script>\n",
              "    </div>\n",
              "  </div>\n",
              "  "
            ]
          },
          "metadata": {},
          "execution_count": 97
        }
      ]
    },
    {
      "cell_type": "code",
      "source": [
        "test1 = pd.read_csv(\"test.csv\")\n",
        "test1.head()"
      ],
      "metadata": {
        "colab": {
          "base_uri": "https://localhost:8080/",
          "height": 206
        },
        "id": "ZDGnprpI1AiS",
        "outputId": "d9193322-e4ea-41c9-959c-b392c4f05eae"
      },
      "execution_count": 98,
      "outputs": [
        {
          "output_type": "execute_result",
          "data": {
            "text/plain": [
              "   userId  itemId                 date\n",
              "0  cgexjc  857869  2021-08-18 00:40:19\n",
              "1  cgexjc  631765  2021-08-18 01:31:23\n",
              "2  cgexjc  232633  2021-08-18 01:12:46\n",
              "3  cgexjc  259982  2021-08-18 00:50:49\n",
              "4  cgexjc  131945  2021-08-18 00:56:13"
            ],
            "text/html": [
              "\n",
              "  <div id=\"df-ab5edca3-df8a-4418-be1f-54a9f7959b6a\">\n",
              "    <div class=\"colab-df-container\">\n",
              "      <div>\n",
              "<style scoped>\n",
              "    .dataframe tbody tr th:only-of-type {\n",
              "        vertical-align: middle;\n",
              "    }\n",
              "\n",
              "    .dataframe tbody tr th {\n",
              "        vertical-align: top;\n",
              "    }\n",
              "\n",
              "    .dataframe thead th {\n",
              "        text-align: right;\n",
              "    }\n",
              "</style>\n",
              "<table border=\"1\" class=\"dataframe\">\n",
              "  <thead>\n",
              "    <tr style=\"text-align: right;\">\n",
              "      <th></th>\n",
              "      <th>userId</th>\n",
              "      <th>itemId</th>\n",
              "      <th>date</th>\n",
              "    </tr>\n",
              "  </thead>\n",
              "  <tbody>\n",
              "    <tr>\n",
              "      <th>0</th>\n",
              "      <td>cgexjc</td>\n",
              "      <td>857869</td>\n",
              "      <td>2021-08-18 00:40:19</td>\n",
              "    </tr>\n",
              "    <tr>\n",
              "      <th>1</th>\n",
              "      <td>cgexjc</td>\n",
              "      <td>631765</td>\n",
              "      <td>2021-08-18 01:31:23</td>\n",
              "    </tr>\n",
              "    <tr>\n",
              "      <th>2</th>\n",
              "      <td>cgexjc</td>\n",
              "      <td>232633</td>\n",
              "      <td>2021-08-18 01:12:46</td>\n",
              "    </tr>\n",
              "    <tr>\n",
              "      <th>3</th>\n",
              "      <td>cgexjc</td>\n",
              "      <td>259982</td>\n",
              "      <td>2021-08-18 00:50:49</td>\n",
              "    </tr>\n",
              "    <tr>\n",
              "      <th>4</th>\n",
              "      <td>cgexjc</td>\n",
              "      <td>131945</td>\n",
              "      <td>2021-08-18 00:56:13</td>\n",
              "    </tr>\n",
              "  </tbody>\n",
              "</table>\n",
              "</div>\n",
              "      <button class=\"colab-df-convert\" onclick=\"convertToInteractive('df-ab5edca3-df8a-4418-be1f-54a9f7959b6a')\"\n",
              "              title=\"Convert this dataframe to an interactive table.\"\n",
              "              style=\"display:none;\">\n",
              "        \n",
              "  <svg xmlns=\"http://www.w3.org/2000/svg\" height=\"24px\"viewBox=\"0 0 24 24\"\n",
              "       width=\"24px\">\n",
              "    <path d=\"M0 0h24v24H0V0z\" fill=\"none\"/>\n",
              "    <path d=\"M18.56 5.44l.94 2.06.94-2.06 2.06-.94-2.06-.94-.94-2.06-.94 2.06-2.06.94zm-11 1L8.5 8.5l.94-2.06 2.06-.94-2.06-.94L8.5 2.5l-.94 2.06-2.06.94zm10 10l.94 2.06.94-2.06 2.06-.94-2.06-.94-.94-2.06-.94 2.06-2.06.94z\"/><path d=\"M17.41 7.96l-1.37-1.37c-.4-.4-.92-.59-1.43-.59-.52 0-1.04.2-1.43.59L10.3 9.45l-7.72 7.72c-.78.78-.78 2.05 0 2.83L4 21.41c.39.39.9.59 1.41.59.51 0 1.02-.2 1.41-.59l7.78-7.78 2.81-2.81c.8-.78.8-2.07 0-2.86zM5.41 20L4 18.59l7.72-7.72 1.47 1.35L5.41 20z\"/>\n",
              "  </svg>\n",
              "      </button>\n",
              "      \n",
              "  <style>\n",
              "    .colab-df-container {\n",
              "      display:flex;\n",
              "      flex-wrap:wrap;\n",
              "      gap: 12px;\n",
              "    }\n",
              "\n",
              "    .colab-df-convert {\n",
              "      background-color: #E8F0FE;\n",
              "      border: none;\n",
              "      border-radius: 50%;\n",
              "      cursor: pointer;\n",
              "      display: none;\n",
              "      fill: #1967D2;\n",
              "      height: 32px;\n",
              "      padding: 0 0 0 0;\n",
              "      width: 32px;\n",
              "    }\n",
              "\n",
              "    .colab-df-convert:hover {\n",
              "      background-color: #E2EBFA;\n",
              "      box-shadow: 0px 1px 2px rgba(60, 64, 67, 0.3), 0px 1px 3px 1px rgba(60, 64, 67, 0.15);\n",
              "      fill: #174EA6;\n",
              "    }\n",
              "\n",
              "    [theme=dark] .colab-df-convert {\n",
              "      background-color: #3B4455;\n",
              "      fill: #D2E3FC;\n",
              "    }\n",
              "\n",
              "    [theme=dark] .colab-df-convert:hover {\n",
              "      background-color: #434B5C;\n",
              "      box-shadow: 0px 1px 3px 1px rgba(0, 0, 0, 0.15);\n",
              "      filter: drop-shadow(0px 1px 2px rgba(0, 0, 0, 0.3));\n",
              "      fill: #FFFFFF;\n",
              "    }\n",
              "  </style>\n",
              "\n",
              "      <script>\n",
              "        const buttonEl =\n",
              "          document.querySelector('#df-ab5edca3-df8a-4418-be1f-54a9f7959b6a button.colab-df-convert');\n",
              "        buttonEl.style.display =\n",
              "          google.colab.kernel.accessAllowed ? 'block' : 'none';\n",
              "\n",
              "        async function convertToInteractive(key) {\n",
              "          const element = document.querySelector('#df-ab5edca3-df8a-4418-be1f-54a9f7959b6a');\n",
              "          const dataTable =\n",
              "            await google.colab.kernel.invokeFunction('convertToInteractive',\n",
              "                                                     [key], {});\n",
              "          if (!dataTable) return;\n",
              "\n",
              "          const docLinkHtml = 'Like what you see? Visit the ' +\n",
              "            '<a target=\"_blank\" href=https://colab.research.google.com/notebooks/data_table.ipynb>data table notebook</a>'\n",
              "            + ' to learn more about interactive tables.';\n",
              "          element.innerHTML = '';\n",
              "          dataTable['output_type'] = 'display_data';\n",
              "          await google.colab.output.renderOutput(dataTable, element);\n",
              "          const docLink = document.createElement('div');\n",
              "          docLink.innerHTML = docLinkHtml;\n",
              "          element.appendChild(docLink);\n",
              "        }\n",
              "      </script>\n",
              "    </div>\n",
              "  </div>\n",
              "  "
            ]
          },
          "metadata": {},
          "execution_count": 98
        }
      ]
    },
    {
      "cell_type": "code",
      "source": [
        "df_combined = pd.merge(train1, test1, on = 'userId')\n",
        "df_combined.head()"
      ],
      "metadata": {
        "colab": {
          "base_uri": "https://localhost:8080/",
          "height": 206
        },
        "id": "k5LcO23o-tQj",
        "outputId": "d9a094dd-cb0f-4978-9ae7-5b41d5c2657e"
      },
      "execution_count": 9,
      "outputs": [
        {
          "output_type": "execute_result",
          "data": {
            "text/plain": [
              "   userId  itemId_x  rating               date_x  itemId_y  \\\n",
              "0  cgexjc  682978.0     4.0  2017-08-13 13:23:35    857869   \n",
              "1  cgexjc  682978.0     4.0  2017-08-13 13:23:35    631765   \n",
              "2  cgexjc  682978.0     4.0  2017-08-13 13:23:35    232633   \n",
              "3  cgexjc  682978.0     4.0  2017-08-13 13:23:35    259982   \n",
              "4  cgexjc  682978.0     4.0  2017-08-13 13:23:35    131945   \n",
              "\n",
              "                date_y  \n",
              "0  2021-08-18 00:40:19  \n",
              "1  2021-08-18 01:31:23  \n",
              "2  2021-08-18 01:12:46  \n",
              "3  2021-08-18 00:50:49  \n",
              "4  2021-08-18 00:56:13  "
            ],
            "text/html": [
              "\n",
              "  <div id=\"df-03476605-cb77-4e5f-a129-97b7a7d2f734\">\n",
              "    <div class=\"colab-df-container\">\n",
              "      <div>\n",
              "<style scoped>\n",
              "    .dataframe tbody tr th:only-of-type {\n",
              "        vertical-align: middle;\n",
              "    }\n",
              "\n",
              "    .dataframe tbody tr th {\n",
              "        vertical-align: top;\n",
              "    }\n",
              "\n",
              "    .dataframe thead th {\n",
              "        text-align: right;\n",
              "    }\n",
              "</style>\n",
              "<table border=\"1\" class=\"dataframe\">\n",
              "  <thead>\n",
              "    <tr style=\"text-align: right;\">\n",
              "      <th></th>\n",
              "      <th>userId</th>\n",
              "      <th>itemId_x</th>\n",
              "      <th>rating</th>\n",
              "      <th>date_x</th>\n",
              "      <th>itemId_y</th>\n",
              "      <th>date_y</th>\n",
              "    </tr>\n",
              "  </thead>\n",
              "  <tbody>\n",
              "    <tr>\n",
              "      <th>0</th>\n",
              "      <td>cgexjc</td>\n",
              "      <td>682978.0</td>\n",
              "      <td>4.0</td>\n",
              "      <td>2017-08-13 13:23:35</td>\n",
              "      <td>857869</td>\n",
              "      <td>2021-08-18 00:40:19</td>\n",
              "    </tr>\n",
              "    <tr>\n",
              "      <th>1</th>\n",
              "      <td>cgexjc</td>\n",
              "      <td>682978.0</td>\n",
              "      <td>4.0</td>\n",
              "      <td>2017-08-13 13:23:35</td>\n",
              "      <td>631765</td>\n",
              "      <td>2021-08-18 01:31:23</td>\n",
              "    </tr>\n",
              "    <tr>\n",
              "      <th>2</th>\n",
              "      <td>cgexjc</td>\n",
              "      <td>682978.0</td>\n",
              "      <td>4.0</td>\n",
              "      <td>2017-08-13 13:23:35</td>\n",
              "      <td>232633</td>\n",
              "      <td>2021-08-18 01:12:46</td>\n",
              "    </tr>\n",
              "    <tr>\n",
              "      <th>3</th>\n",
              "      <td>cgexjc</td>\n",
              "      <td>682978.0</td>\n",
              "      <td>4.0</td>\n",
              "      <td>2017-08-13 13:23:35</td>\n",
              "      <td>259982</td>\n",
              "      <td>2021-08-18 00:50:49</td>\n",
              "    </tr>\n",
              "    <tr>\n",
              "      <th>4</th>\n",
              "      <td>cgexjc</td>\n",
              "      <td>682978.0</td>\n",
              "      <td>4.0</td>\n",
              "      <td>2017-08-13 13:23:35</td>\n",
              "      <td>131945</td>\n",
              "      <td>2021-08-18 00:56:13</td>\n",
              "    </tr>\n",
              "  </tbody>\n",
              "</table>\n",
              "</div>\n",
              "      <button class=\"colab-df-convert\" onclick=\"convertToInteractive('df-03476605-cb77-4e5f-a129-97b7a7d2f734')\"\n",
              "              title=\"Convert this dataframe to an interactive table.\"\n",
              "              style=\"display:none;\">\n",
              "        \n",
              "  <svg xmlns=\"http://www.w3.org/2000/svg\" height=\"24px\"viewBox=\"0 0 24 24\"\n",
              "       width=\"24px\">\n",
              "    <path d=\"M0 0h24v24H0V0z\" fill=\"none\"/>\n",
              "    <path d=\"M18.56 5.44l.94 2.06.94-2.06 2.06-.94-2.06-.94-.94-2.06-.94 2.06-2.06.94zm-11 1L8.5 8.5l.94-2.06 2.06-.94-2.06-.94L8.5 2.5l-.94 2.06-2.06.94zm10 10l.94 2.06.94-2.06 2.06-.94-2.06-.94-.94-2.06-.94 2.06-2.06.94z\"/><path d=\"M17.41 7.96l-1.37-1.37c-.4-.4-.92-.59-1.43-.59-.52 0-1.04.2-1.43.59L10.3 9.45l-7.72 7.72c-.78.78-.78 2.05 0 2.83L4 21.41c.39.39.9.59 1.41.59.51 0 1.02-.2 1.41-.59l7.78-7.78 2.81-2.81c.8-.78.8-2.07 0-2.86zM5.41 20L4 18.59l7.72-7.72 1.47 1.35L5.41 20z\"/>\n",
              "  </svg>\n",
              "      </button>\n",
              "      \n",
              "  <style>\n",
              "    .colab-df-container {\n",
              "      display:flex;\n",
              "      flex-wrap:wrap;\n",
              "      gap: 12px;\n",
              "    }\n",
              "\n",
              "    .colab-df-convert {\n",
              "      background-color: #E8F0FE;\n",
              "      border: none;\n",
              "      border-radius: 50%;\n",
              "      cursor: pointer;\n",
              "      display: none;\n",
              "      fill: #1967D2;\n",
              "      height: 32px;\n",
              "      padding: 0 0 0 0;\n",
              "      width: 32px;\n",
              "    }\n",
              "\n",
              "    .colab-df-convert:hover {\n",
              "      background-color: #E2EBFA;\n",
              "      box-shadow: 0px 1px 2px rgba(60, 64, 67, 0.3), 0px 1px 3px 1px rgba(60, 64, 67, 0.15);\n",
              "      fill: #174EA6;\n",
              "    }\n",
              "\n",
              "    [theme=dark] .colab-df-convert {\n",
              "      background-color: #3B4455;\n",
              "      fill: #D2E3FC;\n",
              "    }\n",
              "\n",
              "    [theme=dark] .colab-df-convert:hover {\n",
              "      background-color: #434B5C;\n",
              "      box-shadow: 0px 1px 3px 1px rgba(0, 0, 0, 0.15);\n",
              "      filter: drop-shadow(0px 1px 2px rgba(0, 0, 0, 0.3));\n",
              "      fill: #FFFFFF;\n",
              "    }\n",
              "  </style>\n",
              "\n",
              "      <script>\n",
              "        const buttonEl =\n",
              "          document.querySelector('#df-03476605-cb77-4e5f-a129-97b7a7d2f734 button.colab-df-convert');\n",
              "        buttonEl.style.display =\n",
              "          google.colab.kernel.accessAllowed ? 'block' : 'none';\n",
              "\n",
              "        async function convertToInteractive(key) {\n",
              "          const element = document.querySelector('#df-03476605-cb77-4e5f-a129-97b7a7d2f734');\n",
              "          const dataTable =\n",
              "            await google.colab.kernel.invokeFunction('convertToInteractive',\n",
              "                                                     [key], {});\n",
              "          if (!dataTable) return;\n",
              "\n",
              "          const docLinkHtml = 'Like what you see? Visit the ' +\n",
              "            '<a target=\"_blank\" href=https://colab.research.google.com/notebooks/data_table.ipynb>data table notebook</a>'\n",
              "            + ' to learn more about interactive tables.';\n",
              "          element.innerHTML = '';\n",
              "          dataTable['output_type'] = 'display_data';\n",
              "          await google.colab.output.renderOutput(dataTable, element);\n",
              "          const docLink = document.createElement('div');\n",
              "          docLink.innerHTML = docLinkHtml;\n",
              "          element.appendChild(docLink);\n",
              "        }\n",
              "      </script>\n",
              "    </div>\n",
              "  </div>\n",
              "  "
            ]
          },
          "metadata": {},
          "execution_count": 9
        }
      ]
    },
    {
      "cell_type": "code",
      "source": [
        "df_combined.shape"
      ],
      "metadata": {
        "colab": {
          "base_uri": "https://localhost:8080/"
        },
        "id": "gKegguNn_r3G",
        "outputId": "ec8f2d28-f7d8-43dd-9d25-b86af52493d6"
      },
      "execution_count": 10,
      "outputs": [
        {
          "output_type": "execute_result",
          "data": {
            "text/plain": [
              "(1769258, 6)"
            ]
          },
          "metadata": {},
          "execution_count": 10
        }
      ]
    },
    {
      "cell_type": "markdown",
      "source": [
        "# روش اول"
      ],
      "metadata": {
        "id": "jo7kQ3ML3eIE"
      }
    },
    {
      "cell_type": "code",
      "source": [
        "from keras.layers import Embedding, Input, dot, concatenate\n",
        "from keras.models import Model\n",
        "from IPython.display import SVG\n",
        "from keras.utils.vis_utils import model_to_dot\n",
        "from sklearn.model_selection import train_test_split"
      ],
      "metadata": {
        "id": "_V2jq_G2E0vR"
      },
      "execution_count": 44,
      "outputs": []
    },
    {
      "cell_type": "code",
      "source": [
        "X = train1.iloc[:,:2]\n",
        "Y = train1.iloc[:,2]\n",
        "\n",
        "x_train, x_test, y_train, y_test = train_test_split(X, Y, test_size = 0.2, random_state = 66)"
      ],
      "metadata": {
        "id": "aM24aejFE7ki"
      },
      "execution_count": 28,
      "outputs": []
    },
    {
      "cell_type": "code",
      "source": [
        "n_latent_factors = 50\n",
        "n_users, n_items = len(train1['userId'].unique()), len(train['itemId'].unique()) "
      ],
      "metadata": {
        "id": "q1IgXgMVFfQo"
      },
      "execution_count": 29,
      "outputs": []
    },
    {
      "cell_type": "code",
      "source": [
        "user_input = Input(shape=(1,), name='User_Input')\n",
        "user_embeddings = Embedding(input_dim = n_users, output_dim=n_latent_factors, input_length=1, \n",
        "                              name='User_Embedding') (user_input)\n",
        "user_vector = Flatten(name='User_Vector') (user_embeddings)\n",
        "\n",
        "\n",
        "\n",
        "item_input = Input(shape=(1,), name='Item_Input')\n",
        "item_embeddings = Embedding(input_dim = n_items, output_dim=n_latent_factors, input_length=1, \n",
        "                               name='Item_Embedding') (item_input)\n",
        "item_vector = Flatten(name='Item_Vector') (item_embeddings)\n",
        "\n",
        "\n",
        "\n",
        "merged_vectors = dot([user_vector, item_vector], name='Dot_Product', axes=1)\n",
        "model = Model([user_input, item_input], merged_vectors)"
      ],
      "metadata": {
        "id": "WlXqPiY0Fpzo"
      },
      "execution_count": 60,
      "outputs": []
    },
    {
      "cell_type": "code",
      "source": [
        "model.summary()"
      ],
      "metadata": {
        "colab": {
          "base_uri": "https://localhost:8080/"
        },
        "id": "ya273k3p7Jce",
        "outputId": "92745350-aa41-49eb-d02f-3d93b4608cf8"
      },
      "execution_count": 95,
      "outputs": [
        {
          "output_type": "stream",
          "name": "stdout",
          "text": [
            "Model: \"model_2\"\n",
            "__________________________________________________________________________________________________\n",
            " Layer (type)                   Output Shape         Param #     Connected to                     \n",
            "==================================================================================================\n",
            " Item (InputLayer)              [(None, 1)]          0           []                               \n",
            "                                                                                                  \n",
            " User (InputLayer)              [(None, 1)]          0           []                               \n",
            "                                                                                                  \n",
            " ItemEmbedding (Embedding)      (None, 1, 50)        737700      ['Item[0][0]']                   \n",
            "                                                                                                  \n",
            " UserEmbedding (Embedding)      (None, 1, 50)        66900       ['User[0][0]']                   \n",
            "                                                                                                  \n",
            " FlattenItemE (Flatten)         (None, 50)           0           ['ItemEmbedding[0][0]']          \n",
            "                                                                                                  \n",
            " FlattenUserE (Flatten)         (None, 50)           0           ['UserEmbedding[0][0]']          \n",
            "                                                                                                  \n",
            " Concat (Concatenate)           (None, 100)          0           ['FlattenItemE[0][0]',           \n",
            "                                                                  'FlattenUserE[0][0]']           \n",
            "                                                                                                  \n",
            " dropout (Dropout)              (None, 100)          0           ['Concat[0][0]']                 \n",
            "                                                                                                  \n",
            " Dense1 (Dense)                 (None, 10)           1010        ['dropout[0][0]']                \n",
            "                                                                                                  \n",
            " dropout_1 (Dropout)            (None, 10)           0           ['Dense1[0][0]']                 \n",
            "                                                                                                  \n",
            " ItemBias (Embedding)           (None, 1, 1)         14754       ['Item[0][0]']                   \n",
            "                                                                                                  \n",
            " UserBias (Embedding)           (None, 1, 1)         1338        ['User[0][0]']                   \n",
            "                                                                                                  \n",
            " Dense2 (Dense)                 (None, 1)            11          ['dropout_1[0][0]']              \n",
            "                                                                                                  \n",
            " FlattenItemBiasE (Flatten)     (None, 1)            0           ['ItemBias[0][0]']               \n",
            "                                                                                                  \n",
            " FlattenUserBiasE (Flatten)     (None, 1)            0           ['UserBias[0][0]']               \n",
            "                                                                                                  \n",
            " AddBias (Add)                  (None, 1)            0           ['Dense2[0][0]',                 \n",
            "                                                                  'FlattenItemBiasE[0][0]',       \n",
            "                                                                  'FlattenUserBiasE[0][0]']       \n",
            "                                                                                                  \n",
            " activation (Activation)        (None, 1)            0           ['AddBias[0][0]']                \n",
            "                                                                                                  \n",
            " lambda (Lambda)                (None, 1)            0           ['activation[0][0]']             \n",
            "                                                                                                  \n",
            "==================================================================================================\n",
            "Total params: 821,713\n",
            "Trainable params: 821,713\n",
            "Non-trainable params: 0\n",
            "__________________________________________________________________________________________________\n"
          ]
        }
      ]
    },
    {
      "cell_type": "code",
      "source": [
        "optimizer = Adam(lr = 0.0005)\n",
        "\n",
        "model.compile(loss='mean_squared_error', optimizer = optimizer)"
      ],
      "metadata": {
        "colab": {
          "base_uri": "https://localhost:8080/"
        },
        "id": "nDVdpLzPGGw3",
        "outputId": "abf91774-2539-4844-c8ca-3f8155099652"
      },
      "execution_count": 61,
      "outputs": [
        {
          "output_type": "stream",
          "name": "stderr",
          "text": [
            "/usr/local/lib/python3.9/dist-packages/keras/optimizers/optimizer_v2/adam.py:117: UserWarning: The `lr` argument is deprecated, use `learning_rate` instead.\n",
            "  super().__init__(name, **kwargs)\n"
          ]
        }
      ]
    },
    {
      "cell_type": "code",
      "source": [
        "history = model.fit(x=[x_train['userId'], x_train['itemId']], y=y_train, batch_size=128, epochs=10, verbose= 2, validation_data=([x_test['userId'], x_test['itemId']], y_test))"
      ],
      "metadata": {
        "id": "DrMXFDHJGK0S"
      },
      "execution_count": null,
      "outputs": []
    },
    {
      "cell_type": "code",
      "source": [],
      "metadata": {
        "id": "Jce0ONDTUKdQ"
      },
      "execution_count": null,
      "outputs": []
    },
    {
      "cell_type": "code",
      "source": [],
      "metadata": {
        "id": "wkntsFhEUKxj"
      },
      "execution_count": null,
      "outputs": []
    },
    {
      "cell_type": "code",
      "source": [],
      "metadata": {
        "id": "yYVCcQViVqjR"
      },
      "execution_count": null,
      "outputs": []
    },
    {
      "cell_type": "markdown",
      "source": [
        "# روش دوم"
      ],
      "metadata": {
        "id": "sakCRxSL3YM7"
      }
    },
    {
      "cell_type": "code",
      "source": [
        "pip install reco"
      ],
      "metadata": {
        "id": "BjsCRuF56bU_"
      },
      "execution_count": null,
      "outputs": []
    },
    {
      "cell_type": "code",
      "source": [
        "from reco.preprocess import user_split"
      ],
      "metadata": {
        "id": "wTOvCkFp6Jf0"
      },
      "execution_count": null,
      "outputs": []
    },
    {
      "cell_type": "code",
      "source": [
        "n_users = train1.userId.nunique()\n",
        "n_items = train1.itemId.nunique()"
      ],
      "metadata": {
        "id": "eWj9g9u0W5tO"
      },
      "execution_count": 69,
      "outputs": []
    },
    {
      "cell_type": "code",
      "source": [
        "max_rating = train1.rating.max()\n",
        "min_rating = train1.rating.min()"
      ],
      "metadata": {
        "id": "JvNNl3pPXG8S"
      },
      "execution_count": 70,
      "outputs": []
    },
    {
      "cell_type": "code",
      "source": [
        "train, test = User_split(train, [0.9, 0.1])"
      ],
      "metadata": {
        "id": "jEYfiNpzXRpP"
      },
      "execution_count": null,
      "outputs": []
    },
    {
      "cell_type": "code",
      "source": [
        "from keras.models import Model\n",
        "from keras.layers import Input, Embedding, Flatten, Dot, Add, Lambda, Activation, Reshape, Concatenate, Dense, Dropout\n",
        "from keras.regularizers import l2\n",
        "from keras.constraints import non_neg\n",
        "from keras.optimizers import Adam\n",
        "from keras.utils import plot_model\n",
        "from keras.utils.vis_utils import model_to_dot"
      ],
      "metadata": {
        "id": "GQ47ZA7sX852"
      },
      "execution_count": 72,
      "outputs": []
    },
    {
      "cell_type": "code",
      "source": [
        "def Deep_MF(n_users, n_items, n_factors):\n",
        "    \n",
        "\n",
        "    item_input = Input(shape=[1], name='ItemId')\n",
        "    item_embedding = Embedding(n_items, n_factors, embeddings_regularizer=l2(1e-6),\n",
        "                               embeddings_initializer='glorot_normal',\n",
        "                               name='ItemEmbedding')(item_input)\n",
        "    item_vec = Flatten(name='FlattenItemE')(item_embedding)\n",
        "    \n",
        "\n",
        "    item_bias = Embedding(n_items, 1, embeddings_regularizer=l2(1e-6), \n",
        "                          embeddings_initializer='glorot_normal',\n",
        "                          name='ItemBias')(item_input)\n",
        "    item_bias_vec = Flatten(name='FlattenItemBiasE')(item_bias)\n",
        "\n",
        "\n",
        "    user_input = Input(shape=[1], name='UserId')\n",
        "    user_embedding = Embedding(n_users, n_factors, embeddings_regularizer=l2(1e-6),\n",
        "                               embeddings_initializer='glorot_normal',\n",
        "                               name='UserEmbedding')(user_input)\n",
        "    user_vec = Flatten(name='FlattenUserE')(user_embedding)\n",
        "\n",
        "\n",
        "    user_bias = Embedding(n_users, 1, embeddings_regularizer=l2(1e-6), \n",
        "                        embeddings_initializer='glorot_normal',\n",
        "                          name='UserBias')(user_input)\n",
        "    user_bias_vec = Flatten(name='FlattenUserBiasE')(user_bias)\n",
        "\n",
        "\n",
        "    Concat = Concatenate(name='Concat')([item_vec, user_vec])\n",
        "    ConcatDrop = Dropout(0.5)(Concat)\n",
        "\n",
        "    kernel_initializer='he_normal'\n",
        "    \n",
        "\n",
        "    Dense_1 = Dense(10, kernel_initializer='glorot_normal', name=\"Dense1\")(ConcatDrop)\n",
        "    Dense_1_Drop = Dropout(0.5)(Dense_1)\n",
        "    Dense_2 = Dense(1, kernel_initializer='glorot_normal', name=\"Dense2\")(Dense_1_Drop)\n",
        "\n",
        "    \n",
        "    AddBias = Add(name=\"AddBias\")([Dense_2, item_bias_vec, user_bias_vec])\n",
        "    \n",
        "    \n",
        "    \n",
        "\n",
        "    y = Activation('sigmoid')(AddBias)\n",
        "    rating_output = Lambda(lambda x: x * (max_rating - min_rating) + min_rating)(y)\n",
        "    \n",
        "\n",
        "    model = Model([user_input, item_input], rating_output)\n",
        "    \n",
        "\n",
        "    model.compile(loss='mean_squared_error', optimizer=Adam(lr=0.001))\n",
        "    \n",
        "    return model"
      ],
      "metadata": {
        "id": "ewvCV98QYD7F"
      },
      "execution_count": 73,
      "outputs": []
    },
    {
      "cell_type": "code",
      "source": [
        "n_factors = 50\n",
        "model = Deep_MF(n_users, n_items, n_factors)"
      ],
      "metadata": {
        "colab": {
          "base_uri": "https://localhost:8080/"
        },
        "id": "vcnVMh3PYK31",
        "outputId": "9e01465d-355b-4238-f8d4-e1b6c4a5e905"
      },
      "execution_count": 74,
      "outputs": [
        {
          "output_type": "stream",
          "name": "stderr",
          "text": [
            "/usr/local/lib/python3.9/dist-packages/keras/optimizers/optimizer_v2/adam.py:117: UserWarning: The `lr` argument is deprecated, use `learning_rate` instead.\n",
            "  super().__init__(name, **kwargs)\n"
          ]
        }
      ]
    },
    {
      "cell_type": "code",
      "source": [
        "model.summary()"
      ],
      "metadata": {
        "colab": {
          "base_uri": "https://localhost:8080/"
        },
        "id": "1zP0fgejYNyj",
        "outputId": "cbfaf2da-c917-4b3b-c72d-0c137e63c7f8"
      },
      "execution_count": 75,
      "outputs": [
        {
          "output_type": "stream",
          "name": "stdout",
          "text": [
            "Model: \"model_2\"\n",
            "__________________________________________________________________________________________________\n",
            " Layer (type)                   Output Shape         Param #     Connected to                     \n",
            "==================================================================================================\n",
            " Item (InputLayer)              [(None, 1)]          0           []                               \n",
            "                                                                                                  \n",
            " User (InputLayer)              [(None, 1)]          0           []                               \n",
            "                                                                                                  \n",
            " ItemEmbedding (Embedding)      (None, 1, 50)        737700      ['Item[0][0]']                   \n",
            "                                                                                                  \n",
            " UserEmbedding (Embedding)      (None, 1, 50)        66900       ['User[0][0]']                   \n",
            "                                                                                                  \n",
            " FlattenItemE (Flatten)         (None, 50)           0           ['ItemEmbedding[0][0]']          \n",
            "                                                                                                  \n",
            " FlattenUserE (Flatten)         (None, 50)           0           ['UserEmbedding[0][0]']          \n",
            "                                                                                                  \n",
            " Concat (Concatenate)           (None, 100)          0           ['FlattenItemE[0][0]',           \n",
            "                                                                  'FlattenUserE[0][0]']           \n",
            "                                                                                                  \n",
            " dropout (Dropout)              (None, 100)          0           ['Concat[0][0]']                 \n",
            "                                                                                                  \n",
            " Dense1 (Dense)                 (None, 10)           1010        ['dropout[0][0]']                \n",
            "                                                                                                  \n",
            " dropout_1 (Dropout)            (None, 10)           0           ['Dense1[0][0]']                 \n",
            "                                                                                                  \n",
            " ItemBias (Embedding)           (None, 1, 1)         14754       ['Item[0][0]']                   \n",
            "                                                                                                  \n",
            " UserBias (Embedding)           (None, 1, 1)         1338        ['User[0][0]']                   \n",
            "                                                                                                  \n",
            " Dense2 (Dense)                 (None, 1)            11          ['dropout_1[0][0]']              \n",
            "                                                                                                  \n",
            " FlattenItemBiasE (Flatten)     (None, 1)            0           ['ItemBias[0][0]']               \n",
            "                                                                                                  \n",
            " FlattenUserBiasE (Flatten)     (None, 1)            0           ['UserBias[0][0]']               \n",
            "                                                                                                  \n",
            " AddBias (Add)                  (None, 1)            0           ['Dense2[0][0]',                 \n",
            "                                                                  'FlattenItemBiasE[0][0]',       \n",
            "                                                                  'FlattenUserBiasE[0][0]']       \n",
            "                                                                                                  \n",
            " activation (Activation)        (None, 1)            0           ['AddBias[0][0]']                \n",
            "                                                                                                  \n",
            " lambda (Lambda)                (None, 1)            0           ['activation[0][0]']             \n",
            "                                                                                                  \n",
            "==================================================================================================\n",
            "Total params: 821,713\n",
            "Trainable params: 821,713\n",
            "Non-trainable params: 0\n",
            "__________________________________________________________________________________________________\n"
          ]
        }
      ]
    },
    {
      "cell_type": "code",
      "source": [
        "output = model.fit([train.userId, train.itemId], train.rating, \n",
        "                                  batch_size=128, epochs=5, verbose=1, \n",
        "                   validation_data= ([test.userId, test.itemId], test.rating))"
      ],
      "metadata": {
        "id": "6Rvg98hEYfq9"
      },
      "execution_count": null,
      "outputs": []
    }
  ]
}