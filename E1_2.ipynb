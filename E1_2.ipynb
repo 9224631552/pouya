{
  "nbformat": 4,
  "nbformat_minor": 0,
  "metadata": {
    "colab": {
      "provenance": []
    },
    "kernelspec": {
      "name": "python3",
      "display_name": "Python 3"
    },
    "language_info": {
      "name": "python"
    }
  },
  "cells": [
    {
      "cell_type": "code",
      "source": [
        "pip install tensorflow==2.12"
      ],
      "metadata": {
        "id": "HOBs5mKm98sr"
      },
      "execution_count": null,
      "outputs": []
    },
    {
      "cell_type": "code",
      "execution_count": 2,
      "metadata": {
        "id": "58JMg6DM2TcW"
      },
      "outputs": [],
      "source": [
        "import keras\n",
        "from keras import layers\n",
        "import pandas as pd\n",
        "import numpy as np\n",
        "import matplotlib.pyplot as plt\n",
        "import seaborn as sns\n",
        "import tensorflow as tf\n",
        "import os\n",
        "import urllib.request\n",
        "import gzip"
      ]
    },
    {
      "cell_type": "code",
      "source": [
        "def load_covtype_dataset():\n",
        "    '''Downloads the Cover Type dataset from UCI repository, returning a file handle'''\n",
        "    CURRENT_DIR = os.getcwd()\n",
        "    COVTYPE_FILENAME = 'covtype.data'\n",
        "    COVTYPE_DATA_PATH = os.path.join(CURRENT_DIR, COVTYPE_FILENAME)\n",
        "    COVTYPE_URL = 'https://archive.ics.uci.edu/ml/machine-learning-databases/covtype/covtype.data.gz'\n",
        "    if os.path.isfile(COVTYPE_DATA_PATH):\n",
        "        print('Using local cached copy in', COVTYPE_DATA_PATH)\n",
        "    else:\n",
        "        print('Dataset not found locally. Downloading in', COVTYPE_DATA_PATH)\n",
        "        with urllib.request.urlopen(COVTYPE_URL) as response:\n",
        "            with gzip.GzipFile(fileobj=response) as uncompressed, open(COVTYPE_DATA_PATH, 'wb') as out_file:\n",
        "                file_header = uncompressed.read()\n",
        "                out_file.write(file_header)\n",
        "    return COVTYPE_DATA_PATH"
      ],
      "metadata": {
        "id": "D9lvVDa_2gyz"
      },
      "execution_count": 3,
      "outputs": []
    },
    {
      "cell_type": "code",
      "source": [
        "covtype_file = load_covtype_dataset()"
      ],
      "metadata": {
        "colab": {
          "base_uri": "https://localhost:8080/"
        },
        "id": "5TFRJvK52nJg",
        "outputId": "6bad7c43-51e5-4c9c-c5c6-dfaa915d1232"
      },
      "execution_count": 4,
      "outputs": [
        {
          "output_type": "stream",
          "name": "stdout",
          "text": [
            "Using local cached copy in /content/covtype.data\n"
          ]
        }
      ]
    },
    {
      "cell_type": "code",
      "source": [
        "df_covtype = pd.read_csv(covtype_file, header=None)"
      ],
      "metadata": {
        "id": "XVqw_8wN2ptn"
      },
      "execution_count": 5,
      "outputs": []
    },
    {
      "cell_type": "code",
      "source": [
        "def features_renaming(df_covtype):\n",
        "    '''Rename each column to meaningful labels'''\n",
        "    first_fourteen_old_feature_names = df_covtype.columns[np.arange(0,14)]\n",
        "    first_fourteen_new_feature_names = ['Elevation', 'Aspect', 'Slope',\n",
        "                                        'Horizontal_Distance_To_Hydrology',\n",
        "                                        'Vertical_Distance_To_Hydrology',\n",
        "                                        'Horizontal_Distance_To_Roadways',\n",
        "                                        'Hillshade_9am', 'Hillshade_Noon', 'Hillshade_3pm',\n",
        "                                        'Horizontal_Distance_To_Fire_Points',\n",
        "                                        'Wilderness_Area_1', 'Wilderness_Area_2',\n",
        "                                        'Wilderness_Area_3', 'Wilderness_Area_4']\n",
        "    old_to_new_name_mapping = dict(zip(first_fourteen_old_feature_names, first_fourteen_new_feature_names))\n",
        "    df_covtype.rename(columns=old_to_new_name_mapping, inplace=True)\n",
        "    soil_type_old_feature_names = df_covtype.columns[np.arange(14,54)]\n",
        "    soil_type_new_feature_names = ['Soil_Type_' + str(i) for i in np.arange(1,41)]\n",
        "    old_to_new_name_mapping = dict(zip(soil_type_old_feature_names, soil_type_new_feature_names))\n",
        "    df_covtype.rename(columns=old_to_new_name_mapping, inplace=True)\n",
        "    df_covtype.rename(columns={54: 'Cover_Type'}, inplace=True)\n",
        "    return df_covtype"
      ],
      "metadata": {
        "id": "fehbdm6Q2tcO"
      },
      "execution_count": 6,
      "outputs": []
    },
    {
      "cell_type": "code",
      "source": [
        "df_covtype = features_renaming(df_covtype)\n",
        "df_covtype.head()"
      ],
      "metadata": {
        "colab": {
          "base_uri": "https://localhost:8080/",
          "height": 299
        },
        "id": "KywbV69a2v6O",
        "outputId": "f448fa75-97ff-4435-97d4-7ed2bcb06bb0"
      },
      "execution_count": 7,
      "outputs": [
        {
          "output_type": "execute_result",
          "data": {
            "text/plain": [
              "   Elevation  Aspect  Slope  Horizontal_Distance_To_Hydrology  \\\n",
              "0       2596      51      3                               258   \n",
              "1       2590      56      2                               212   \n",
              "2       2804     139      9                               268   \n",
              "3       2785     155     18                               242   \n",
              "4       2595      45      2                               153   \n",
              "\n",
              "   Vertical_Distance_To_Hydrology  Horizontal_Distance_To_Roadways  \\\n",
              "0                               0                              510   \n",
              "1                              -6                              390   \n",
              "2                              65                             3180   \n",
              "3                             118                             3090   \n",
              "4                              -1                              391   \n",
              "\n",
              "   Hillshade_9am  Hillshade_Noon  Hillshade_3pm  \\\n",
              "0            221             232            148   \n",
              "1            220             235            151   \n",
              "2            234             238            135   \n",
              "3            238             238            122   \n",
              "4            220             234            150   \n",
              "\n",
              "   Horizontal_Distance_To_Fire_Points  ...  Soil_Type_32  Soil_Type_33  \\\n",
              "0                                6279  ...           0.0           0.0   \n",
              "1                                6225  ...           0.0           0.0   \n",
              "2                                6121  ...           0.0           0.0   \n",
              "3                                6211  ...           0.0           0.0   \n",
              "4                                6172  ...           0.0           0.0   \n",
              "\n",
              "   Soil_Type_34  Soil_Type_35  Soil_Type_36  Soil_Type_37  Soil_Type_38  \\\n",
              "0           0.0           0.0           0.0           0.0           0.0   \n",
              "1           0.0           0.0           0.0           0.0           0.0   \n",
              "2           0.0           0.0           0.0           0.0           0.0   \n",
              "3           0.0           0.0           0.0           0.0           0.0   \n",
              "4           0.0           0.0           0.0           0.0           0.0   \n",
              "\n",
              "   Soil_Type_39  Soil_Type_40  Cover_Type  \n",
              "0           0.0           0.0         5.0  \n",
              "1           0.0           0.0         5.0  \n",
              "2           0.0           0.0         2.0  \n",
              "3           0.0           0.0         2.0  \n",
              "4           0.0           0.0         5.0  \n",
              "\n",
              "[5 rows x 55 columns]"
            ],
            "text/html": [
              "\n",
              "  <div id=\"df-17cba4df-edd9-4f02-89c0-786fc8a72b8a\">\n",
              "    <div class=\"colab-df-container\">\n",
              "      <div>\n",
              "<style scoped>\n",
              "    .dataframe tbody tr th:only-of-type {\n",
              "        vertical-align: middle;\n",
              "    }\n",
              "\n",
              "    .dataframe tbody tr th {\n",
              "        vertical-align: top;\n",
              "    }\n",
              "\n",
              "    .dataframe thead th {\n",
              "        text-align: right;\n",
              "    }\n",
              "</style>\n",
              "<table border=\"1\" class=\"dataframe\">\n",
              "  <thead>\n",
              "    <tr style=\"text-align: right;\">\n",
              "      <th></th>\n",
              "      <th>Elevation</th>\n",
              "      <th>Aspect</th>\n",
              "      <th>Slope</th>\n",
              "      <th>Horizontal_Distance_To_Hydrology</th>\n",
              "      <th>Vertical_Distance_To_Hydrology</th>\n",
              "      <th>Horizontal_Distance_To_Roadways</th>\n",
              "      <th>Hillshade_9am</th>\n",
              "      <th>Hillshade_Noon</th>\n",
              "      <th>Hillshade_3pm</th>\n",
              "      <th>Horizontal_Distance_To_Fire_Points</th>\n",
              "      <th>...</th>\n",
              "      <th>Soil_Type_32</th>\n",
              "      <th>Soil_Type_33</th>\n",
              "      <th>Soil_Type_34</th>\n",
              "      <th>Soil_Type_35</th>\n",
              "      <th>Soil_Type_36</th>\n",
              "      <th>Soil_Type_37</th>\n",
              "      <th>Soil_Type_38</th>\n",
              "      <th>Soil_Type_39</th>\n",
              "      <th>Soil_Type_40</th>\n",
              "      <th>Cover_Type</th>\n",
              "    </tr>\n",
              "  </thead>\n",
              "  <tbody>\n",
              "    <tr>\n",
              "      <th>0</th>\n",
              "      <td>2596</td>\n",
              "      <td>51</td>\n",
              "      <td>3</td>\n",
              "      <td>258</td>\n",
              "      <td>0</td>\n",
              "      <td>510</td>\n",
              "      <td>221</td>\n",
              "      <td>232</td>\n",
              "      <td>148</td>\n",
              "      <td>6279</td>\n",
              "      <td>...</td>\n",
              "      <td>0.0</td>\n",
              "      <td>0.0</td>\n",
              "      <td>0.0</td>\n",
              "      <td>0.0</td>\n",
              "      <td>0.0</td>\n",
              "      <td>0.0</td>\n",
              "      <td>0.0</td>\n",
              "      <td>0.0</td>\n",
              "      <td>0.0</td>\n",
              "      <td>5.0</td>\n",
              "    </tr>\n",
              "    <tr>\n",
              "      <th>1</th>\n",
              "      <td>2590</td>\n",
              "      <td>56</td>\n",
              "      <td>2</td>\n",
              "      <td>212</td>\n",
              "      <td>-6</td>\n",
              "      <td>390</td>\n",
              "      <td>220</td>\n",
              "      <td>235</td>\n",
              "      <td>151</td>\n",
              "      <td>6225</td>\n",
              "      <td>...</td>\n",
              "      <td>0.0</td>\n",
              "      <td>0.0</td>\n",
              "      <td>0.0</td>\n",
              "      <td>0.0</td>\n",
              "      <td>0.0</td>\n",
              "      <td>0.0</td>\n",
              "      <td>0.0</td>\n",
              "      <td>0.0</td>\n",
              "      <td>0.0</td>\n",
              "      <td>5.0</td>\n",
              "    </tr>\n",
              "    <tr>\n",
              "      <th>2</th>\n",
              "      <td>2804</td>\n",
              "      <td>139</td>\n",
              "      <td>9</td>\n",
              "      <td>268</td>\n",
              "      <td>65</td>\n",
              "      <td>3180</td>\n",
              "      <td>234</td>\n",
              "      <td>238</td>\n",
              "      <td>135</td>\n",
              "      <td>6121</td>\n",
              "      <td>...</td>\n",
              "      <td>0.0</td>\n",
              "      <td>0.0</td>\n",
              "      <td>0.0</td>\n",
              "      <td>0.0</td>\n",
              "      <td>0.0</td>\n",
              "      <td>0.0</td>\n",
              "      <td>0.0</td>\n",
              "      <td>0.0</td>\n",
              "      <td>0.0</td>\n",
              "      <td>2.0</td>\n",
              "    </tr>\n",
              "    <tr>\n",
              "      <th>3</th>\n",
              "      <td>2785</td>\n",
              "      <td>155</td>\n",
              "      <td>18</td>\n",
              "      <td>242</td>\n",
              "      <td>118</td>\n",
              "      <td>3090</td>\n",
              "      <td>238</td>\n",
              "      <td>238</td>\n",
              "      <td>122</td>\n",
              "      <td>6211</td>\n",
              "      <td>...</td>\n",
              "      <td>0.0</td>\n",
              "      <td>0.0</td>\n",
              "      <td>0.0</td>\n",
              "      <td>0.0</td>\n",
              "      <td>0.0</td>\n",
              "      <td>0.0</td>\n",
              "      <td>0.0</td>\n",
              "      <td>0.0</td>\n",
              "      <td>0.0</td>\n",
              "      <td>2.0</td>\n",
              "    </tr>\n",
              "    <tr>\n",
              "      <th>4</th>\n",
              "      <td>2595</td>\n",
              "      <td>45</td>\n",
              "      <td>2</td>\n",
              "      <td>153</td>\n",
              "      <td>-1</td>\n",
              "      <td>391</td>\n",
              "      <td>220</td>\n",
              "      <td>234</td>\n",
              "      <td>150</td>\n",
              "      <td>6172</td>\n",
              "      <td>...</td>\n",
              "      <td>0.0</td>\n",
              "      <td>0.0</td>\n",
              "      <td>0.0</td>\n",
              "      <td>0.0</td>\n",
              "      <td>0.0</td>\n",
              "      <td>0.0</td>\n",
              "      <td>0.0</td>\n",
              "      <td>0.0</td>\n",
              "      <td>0.0</td>\n",
              "      <td>5.0</td>\n",
              "    </tr>\n",
              "  </tbody>\n",
              "</table>\n",
              "<p>5 rows × 55 columns</p>\n",
              "</div>\n",
              "      <button class=\"colab-df-convert\" onclick=\"convertToInteractive('df-17cba4df-edd9-4f02-89c0-786fc8a72b8a')\"\n",
              "              title=\"Convert this dataframe to an interactive table.\"\n",
              "              style=\"display:none;\">\n",
              "        \n",
              "  <svg xmlns=\"http://www.w3.org/2000/svg\" height=\"24px\"viewBox=\"0 0 24 24\"\n",
              "       width=\"24px\">\n",
              "    <path d=\"M0 0h24v24H0V0z\" fill=\"none\"/>\n",
              "    <path d=\"M18.56 5.44l.94 2.06.94-2.06 2.06-.94-2.06-.94-.94-2.06-.94 2.06-2.06.94zm-11 1L8.5 8.5l.94-2.06 2.06-.94-2.06-.94L8.5 2.5l-.94 2.06-2.06.94zm10 10l.94 2.06.94-2.06 2.06-.94-2.06-.94-.94-2.06-.94 2.06-2.06.94z\"/><path d=\"M17.41 7.96l-1.37-1.37c-.4-.4-.92-.59-1.43-.59-.52 0-1.04.2-1.43.59L10.3 9.45l-7.72 7.72c-.78.78-.78 2.05 0 2.83L4 21.41c.39.39.9.59 1.41.59.51 0 1.02-.2 1.41-.59l7.78-7.78 2.81-2.81c.8-.78.8-2.07 0-2.86zM5.41 20L4 18.59l7.72-7.72 1.47 1.35L5.41 20z\"/>\n",
              "  </svg>\n",
              "      </button>\n",
              "      \n",
              "  <style>\n",
              "    .colab-df-container {\n",
              "      display:flex;\n",
              "      flex-wrap:wrap;\n",
              "      gap: 12px;\n",
              "    }\n",
              "\n",
              "    .colab-df-convert {\n",
              "      background-color: #E8F0FE;\n",
              "      border: none;\n",
              "      border-radius: 50%;\n",
              "      cursor: pointer;\n",
              "      display: none;\n",
              "      fill: #1967D2;\n",
              "      height: 32px;\n",
              "      padding: 0 0 0 0;\n",
              "      width: 32px;\n",
              "    }\n",
              "\n",
              "    .colab-df-convert:hover {\n",
              "      background-color: #E2EBFA;\n",
              "      box-shadow: 0px 1px 2px rgba(60, 64, 67, 0.3), 0px 1px 3px 1px rgba(60, 64, 67, 0.15);\n",
              "      fill: #174EA6;\n",
              "    }\n",
              "\n",
              "    [theme=dark] .colab-df-convert {\n",
              "      background-color: #3B4455;\n",
              "      fill: #D2E3FC;\n",
              "    }\n",
              "\n",
              "    [theme=dark] .colab-df-convert:hover {\n",
              "      background-color: #434B5C;\n",
              "      box-shadow: 0px 1px 3px 1px rgba(0, 0, 0, 0.15);\n",
              "      filter: drop-shadow(0px 1px 2px rgba(0, 0, 0, 0.3));\n",
              "      fill: #FFFFFF;\n",
              "    }\n",
              "  </style>\n",
              "\n",
              "      <script>\n",
              "        const buttonEl =\n",
              "          document.querySelector('#df-17cba4df-edd9-4f02-89c0-786fc8a72b8a button.colab-df-convert');\n",
              "        buttonEl.style.display =\n",
              "          google.colab.kernel.accessAllowed ? 'block' : 'none';\n",
              "\n",
              "        async function convertToInteractive(key) {\n",
              "          const element = document.querySelector('#df-17cba4df-edd9-4f02-89c0-786fc8a72b8a');\n",
              "          const dataTable =\n",
              "            await google.colab.kernel.invokeFunction('convertToInteractive',\n",
              "                                                     [key], {});\n",
              "          if (!dataTable) return;\n",
              "\n",
              "          const docLinkHtml = 'Like what you see? Visit the ' +\n",
              "            '<a target=\"_blank\" href=https://colab.research.google.com/notebooks/data_table.ipynb>data table notebook</a>'\n",
              "            + ' to learn more about interactive tables.';\n",
              "          element.innerHTML = '';\n",
              "          dataTable['output_type'] = 'display_data';\n",
              "          await google.colab.output.renderOutput(dataTable, element);\n",
              "          const docLink = document.createElement('div');\n",
              "          docLink.innerHTML = docLinkHtml;\n",
              "          element.appendChild(docLink);\n",
              "        }\n",
              "      </script>\n",
              "    </div>\n",
              "  </div>\n",
              "  "
            ]
          },
          "metadata": {},
          "execution_count": 7
        }
      ]
    },
    {
      "cell_type": "code",
      "source": [
        "val_dataframe = df_covtype.sample(frac=0.2, random_state=1337)\n",
        "train_dataframe = df_covtype.drop(val_dataframe.index)\n",
        "\n",
        "print(\n",
        "    \"Using %d samples for training and %d for validation\"\n",
        "    % (len(train_dataframe), len(val_dataframe))\n",
        ")"
      ],
      "metadata": {
        "colab": {
          "base_uri": "https://localhost:8080/"
        },
        "id": "rBEx4n4s27ZH",
        "outputId": "b2e7942b-d2fe-43db-d399-b739d0dd97bb"
      },
      "execution_count": 8,
      "outputs": [
        {
          "output_type": "stream",
          "name": "stdout",
          "text": [
            "Using 45395 samples for training and 11349 for validation\n"
          ]
        }
      ]
    },
    {
      "cell_type": "code",
      "source": [
        "def dataframe_to_dataset(df_covtype):\n",
        "    df_covtype = df_covtype.copy()\n",
        "    labels = df_covtype.pop(\"Cover_Type\")\n",
        "    ds = tf.data.Dataset.from_tensor_slices((dict(df_covtype), labels))\n",
        "    ds = ds.shuffle(buffer_size=len(df_covtype))\n",
        "    return ds\n",
        "\n",
        "\n",
        "train_ds = dataframe_to_dataset(train_dataframe)\n",
        "val_ds = dataframe_to_dataset(val_dataframe)"
      ],
      "metadata": {
        "id": "u7qYDWXX3CoW"
      },
      "execution_count": 9,
      "outputs": []
    },
    {
      "cell_type": "code",
      "source": [
        "for x, y in train_ds.take(1):\n",
        "    print(\"Input:\", x)\n",
        "    print(\"Target:\", y)"
      ],
      "metadata": {
        "colab": {
          "base_uri": "https://localhost:8080/"
        },
        "id": "kypZUc_i3FUn",
        "outputId": "8abe96da-2fea-4ae1-c5f9-7ad032eebd46"
      },
      "execution_count": 10,
      "outputs": [
        {
          "output_type": "stream",
          "name": "stdout",
          "text": [
            "Input: {'Elevation': <tf.Tensor: shape=(), dtype=int64, numpy=2559>, 'Aspect': <tf.Tensor: shape=(), dtype=int64, numpy=351>, 'Slope': <tf.Tensor: shape=(), dtype=int64, numpy=20>, 'Horizontal_Distance_To_Hydrology': <tf.Tensor: shape=(), dtype=int64, numpy=95>, 'Vertical_Distance_To_Hydrology': <tf.Tensor: shape=(), dtype=int64, numpy=23>, 'Horizontal_Distance_To_Roadways': <tf.Tensor: shape=(), dtype=int64, numpy=1357>, 'Hillshade_9am': <tf.Tensor: shape=(), dtype=int64, numpy=179>, 'Hillshade_Noon': <tf.Tensor: shape=(), dtype=int64, numpy=201>, 'Hillshade_3pm': <tf.Tensor: shape=(), dtype=int64, numpy=156>, 'Horizontal_Distance_To_Fire_Points': <tf.Tensor: shape=(), dtype=int64, numpy=1499>, 'Wilderness_Area_1': <tf.Tensor: shape=(), dtype=int64, numpy=0>, 'Wilderness_Area_2': <tf.Tensor: shape=(), dtype=int64, numpy=0>, 'Wilderness_Area_3': <tf.Tensor: shape=(), dtype=int64, numpy=1>, 'Wilderness_Area_4': <tf.Tensor: shape=(), dtype=int64, numpy=0>, 'Soil_Type_1': <tf.Tensor: shape=(), dtype=int64, numpy=0>, 'Soil_Type_2': <tf.Tensor: shape=(), dtype=int64, numpy=0>, 'Soil_Type_3': <tf.Tensor: shape=(), dtype=int64, numpy=0>, 'Soil_Type_4': <tf.Tensor: shape=(), dtype=int64, numpy=0>, 'Soil_Type_5': <tf.Tensor: shape=(), dtype=int64, numpy=0>, 'Soil_Type_6': <tf.Tensor: shape=(), dtype=int64, numpy=0>, 'Soil_Type_7': <tf.Tensor: shape=(), dtype=int64, numpy=0>, 'Soil_Type_8': <tf.Tensor: shape=(), dtype=int64, numpy=0>, 'Soil_Type_9': <tf.Tensor: shape=(), dtype=int64, numpy=0>, 'Soil_Type_10': <tf.Tensor: shape=(), dtype=int64, numpy=1>, 'Soil_Type_11': <tf.Tensor: shape=(), dtype=int64, numpy=0>, 'Soil_Type_12': <tf.Tensor: shape=(), dtype=int64, numpy=0>, 'Soil_Type_13': <tf.Tensor: shape=(), dtype=float64, numpy=0.0>, 'Soil_Type_14': <tf.Tensor: shape=(), dtype=float64, numpy=0.0>, 'Soil_Type_15': <tf.Tensor: shape=(), dtype=float64, numpy=0.0>, 'Soil_Type_16': <tf.Tensor: shape=(), dtype=float64, numpy=0.0>, 'Soil_Type_17': <tf.Tensor: shape=(), dtype=float64, numpy=0.0>, 'Soil_Type_18': <tf.Tensor: shape=(), dtype=float64, numpy=0.0>, 'Soil_Type_19': <tf.Tensor: shape=(), dtype=float64, numpy=0.0>, 'Soil_Type_20': <tf.Tensor: shape=(), dtype=float64, numpy=0.0>, 'Soil_Type_21': <tf.Tensor: shape=(), dtype=float64, numpy=0.0>, 'Soil_Type_22': <tf.Tensor: shape=(), dtype=float64, numpy=0.0>, 'Soil_Type_23': <tf.Tensor: shape=(), dtype=float64, numpy=0.0>, 'Soil_Type_24': <tf.Tensor: shape=(), dtype=float64, numpy=0.0>, 'Soil_Type_25': <tf.Tensor: shape=(), dtype=float64, numpy=0.0>, 'Soil_Type_26': <tf.Tensor: shape=(), dtype=float64, numpy=0.0>, 'Soil_Type_27': <tf.Tensor: shape=(), dtype=float64, numpy=0.0>, 'Soil_Type_28': <tf.Tensor: shape=(), dtype=float64, numpy=0.0>, 'Soil_Type_29': <tf.Tensor: shape=(), dtype=float64, numpy=0.0>, 'Soil_Type_30': <tf.Tensor: shape=(), dtype=float64, numpy=0.0>, 'Soil_Type_31': <tf.Tensor: shape=(), dtype=float64, numpy=0.0>, 'Soil_Type_32': <tf.Tensor: shape=(), dtype=float64, numpy=0.0>, 'Soil_Type_33': <tf.Tensor: shape=(), dtype=float64, numpy=0.0>, 'Soil_Type_34': <tf.Tensor: shape=(), dtype=float64, numpy=0.0>, 'Soil_Type_35': <tf.Tensor: shape=(), dtype=float64, numpy=0.0>, 'Soil_Type_36': <tf.Tensor: shape=(), dtype=float64, numpy=0.0>, 'Soil_Type_37': <tf.Tensor: shape=(), dtype=float64, numpy=0.0>, 'Soil_Type_38': <tf.Tensor: shape=(), dtype=float64, numpy=0.0>, 'Soil_Type_39': <tf.Tensor: shape=(), dtype=float64, numpy=0.0>, 'Soil_Type_40': <tf.Tensor: shape=(), dtype=float64, numpy=0.0>}\n",
            "Target: tf.Tensor(3.0, shape=(), dtype=float64)\n"
          ]
        }
      ]
    },
    {
      "cell_type": "code",
      "source": [
        "train_ds = train_ds.batch(32)\n",
        "val_ds = val_ds.batch(32)"
      ],
      "metadata": {
        "id": "wFiBsGLZ3H71"
      },
      "execution_count": 11,
      "outputs": []
    },
    {
      "cell_type": "code",
      "source": [
        "from keras.utils import FeatureSpace\n",
        "\n",
        "feature_space = FeatureSpace(\n",
        "    features={\n",
        "        \"Elevation\": \"integer_categorical\",\n",
        "        \"Aspect\": \"integer_categorical\",\n",
        "        \"Slope\": \"integer_categorical\",\n",
        "        \"Horizontal_Distance_To_Hydrology\": \"integer_categorical\",\n",
        "        \"Vertical_Distance_To_Hydrology\": \"integer_categorical\",\n",
        "        \"Horizontal_Distance_To_Roadways\": \"integer_categorical\",\n",
        "        \"Hillshade_9am\": \"integer_categorical\",\n",
        "        \"Hillshade_Noon\": \"integer_categorical\",\n",
        "        \"Hillshade_3pm\": \"integer_categorical\",\n",
        "        \"Horizontal_Distance_To_Fire_Points\": \"integer_categorical\",\n",
        "        \"Wilderness_Area_1\": \"integer_categorical\",\n",
        "        \"Wilderness_Area_2\": \"integer_categorical\",\n",
        "        \"Wilderness_Area_3\": \"integer_categorical\",\n",
        "        \"Wilderness_Area_4\": \"integer_categorical\",\n",
        "        \"Soil_Type_1\": \"integer_categorical\",\n",
        "        \"Soil_Type_2\": \"integer_categorical\",\n",
        "        \"Soil_Type_3\": \"integer_categorical\",\n",
        "        \"Soil_Type_4\": \"integer_categorical\",\n",
        "        \"Soil_Type_5\": \"integer_categorical\",\n",
        "        \"Soil_Type_6\": \"integer_categorical\",\n",
        "        \"Soil_Type_7\": \"integer_categorical\",\n",
        "        \"Soil_Type_8\": \"integer_categorical\",\n",
        "        \"Soil_Type_9\": \"integer_categorical\",\n",
        "        \"Soil_Type_10\": \"integer_categorical\",\n",
        "        \"Soil_Type_11\": \"integer_categorical\",\n",
        "        \"Soil_Type_12\": \"integer_categorical\",\n",
        "        \"Soil_Type_13\": \"integer_categorical\",\n",
        "        \"Soil_Type_14\": \"integer_categorical\",\n",
        "        \"Soil_Type_15\": \"integer_categorical\",\n",
        "        \"Soil_Type_16\": \"integer_categorical\",\n",
        "        \"Soil_Type_17\": \"integer_categorical\",\n",
        "        \"Soil_Type_18\": \"integer_categorical\",\n",
        "        \"Soil_Type_19\": \"integer_categorical\",\n",
        "        \"Soil_Type_20\": \"integer_categorical\",\n",
        "        \"Soil_Type_21\": \"integer_categorical\",\n",
        "        \"Soil_Type_22\": \"integer_categorical\",\n",
        "        \"Soil_Type_23\": \"integer_categorical\",\n",
        "        \"Soil_Type_24\": \"integer_categorical\",\n",
        "        \"Soil_Type_25\": \"integer_categorical\",\n",
        "        \"Soil_Type_26\": \"integer_categorical\",\n",
        "        \"Soil_Type_27\": \"integer_categorical\",\n",
        "        \"Soil_Type_28\": \"integer_categorical\",\n",
        "        \"Soil_Type_29\": \"integer_categorical\",\n",
        "        \"Soil_Type_30\": \"integer_categorical\",\n",
        "        \"Soil_Type_31\": \"integer_categorical\",\n",
        "        \"Soil_Type_32\": \"integer_categorical\",\n",
        "        \"Soil_Type_33\": \"integer_categorical\",\n",
        "        \"Soil_Type_34\": \"integer_categorical\",\n",
        "        \"Soil_Type_35\": \"integer_categorical\",\n",
        "        \"Soil_Type_36\": \"integer_categorical\",\n",
        "        \"Soil_Type_37\": \"integer_categorical\",\n",
        "        \"Soil_Type_38\": \"integer_categorical\",\n",
        "        \"Soil_Type_39\": \"integer_categorical\",\n",
        "        \"Soil_Type_40\": \"integer_categorical\",\n",
        "    },\n",
        "    crossing_dim=32,\n",
        "    output_mode=\"concat\",\n",
        ")"
      ],
      "metadata": {
        "id": "vymOC1-l3gMg"
      },
      "execution_count": 12,
      "outputs": []
    },
    {
      "cell_type": "code",
      "source": [
        "feature_space = FeatureSpace(\n",
        "    features={\n",
        "        \"Elevation\": FeatureSpace.integer_categorical(num_oov_indices=0),\n",
        "        \"Aspect\": FeatureSpace.integer_categorical(num_oov_indices=0),\n",
        "        \"Slope\": FeatureSpace.integer_categorical(num_oov_indices=0),\n",
        "        \"Horizontal_Distance_To_Hydrology\": FeatureSpace.integer_categorical(num_oov_indices=0),\n",
        "        \"Vertical_Distance_To_Hydrology\": FeatureSpace.integer_categorical(num_oov_indices=0),\n",
        "        \"Horizontal_Distance_To_Roadways\": FeatureSpace.integer_categorical(num_oov_indices=0),\n",
        "        \"Hillshade_9am\": FeatureSpace.integer_categorical(num_oov_indices=0),\n",
        "        \"Hillshade_Noon\": FeatureSpace.integer_categorical(num_oov_indices=0),\n",
        "        \"Hillshade_3pm\": FeatureSpace.integer_categorical(num_oov_indices=0),\n",
        "        \"Horizontal_Distance_To_Fire_Points\": FeatureSpace.integer_categorical(num_oov_indices=0),\n",
        "        \"Wilderness_Area_1\": FeatureSpace.integer_categorical(num_oov_indices=0),\n",
        "        \"Wilderness_Area_2\": FeatureSpace.integer_categorical(num_oov_indices=0),\n",
        "        \"Wilderness_Area_3\": FeatureSpace.integer_categorical(num_oov_indices=0),\n",
        "        \"Wilderness_Area_4\": FeatureSpace.integer_categorical(num_oov_indices=0),\n",
        "        \"Soil_Type_1\": FeatureSpace.integer_categorical(num_oov_indices=0),\n",
        "        \"Soil_Type_2\": FeatureSpace.integer_categorical(num_oov_indices=0),\n",
        "        \"Soil_Type_3\": FeatureSpace.integer_categorical(num_oov_indices=0),\n",
        "        \"Soil_Type_4\": FeatureSpace.integer_categorical(num_oov_indices=0),\n",
        "        \"Soil_Type_5\": FeatureSpace.integer_categorical(num_oov_indices=0),\n",
        "        \"Soil_Type_6\": FeatureSpace.integer_categorical(num_oov_indices=0),\n",
        "        \"Soil_Type_7\": FeatureSpace.integer_categorical(num_oov_indices=0),\n",
        "        \"Soil_Type_8\": FeatureSpace.integer_categorical(num_oov_indices=0),\n",
        "        \"Soil_Type_9\": FeatureSpace.integer_categorical(num_oov_indices=0),\n",
        "        \"Soil_Type_10\": FeatureSpace.integer_categorical(num_oov_indices=0),\n",
        "        \"Soil_Type_11\": FeatureSpace.integer_categorical(num_oov_indices=0),\n",
        "        \"Soil_Type_12\": FeatureSpace.integer_categorical(num_oov_indices=0),\n",
        "        \"Soil_Type_13\": FeatureSpace.integer_categorical(num_oov_indices=0),\n",
        "        \"Soil_Type_14\": FeatureSpace.integer_categorical(num_oov_indices=0),\n",
        "        \"Soil_Type_15\": FeatureSpace.integer_categorical(num_oov_indices=0),\n",
        "        \"Soil_Type_16\": FeatureSpace.integer_categorical(num_oov_indices=0),\n",
        "        \"Soil_Type_17\": FeatureSpace.integer_categorical(num_oov_indices=0),\n",
        "        \"Soil_Type_18\": FeatureSpace.integer_categorical(num_oov_indices=0),\n",
        "        \"Soil_Type_19\": FeatureSpace.integer_categorical(num_oov_indices=0),\n",
        "        \"Soil_Type_20\": FeatureSpace.integer_categorical(num_oov_indices=0),\n",
        "        \"Soil_Type_21\": FeatureSpace.integer_categorical(num_oov_indices=0),\n",
        "        \"Soil_Type_22\": FeatureSpace.integer_categorical(num_oov_indices=0),\n",
        "        \"Soil_Type_23\": FeatureSpace.integer_categorical(num_oov_indices=0),\n",
        "        \"Soil_Type_24\": FeatureSpace.integer_categorical(num_oov_indices=0),\n",
        "        \"Soil_Type_25\": FeatureSpace.integer_categorical(num_oov_indices=0),\n",
        "        \"Soil_Type_26\": FeatureSpace.integer_categorical(num_oov_indices=0),\n",
        "        \"Soil_Type_27\": FeatureSpace.integer_categorical(num_oov_indices=0),\n",
        "        \"Soil_Type_28\": FeatureSpace.integer_categorical(num_oov_indices=0),\n",
        "        \"Soil_Type_29\": FeatureSpace.integer_categorical(num_oov_indices=0),\n",
        "        \"Soil_Type_30\": FeatureSpace.integer_categorical(num_oov_indices=0),\n",
        "        \"Soil_Type_31\": FeatureSpace.integer_categorical(num_oov_indices=0),\n",
        "        \"Soil_Type_32\": FeatureSpace.integer_categorical(num_oov_indices=0),\n",
        "        \"Soil_Type_33\": FeatureSpace.integer_categorical(num_oov_indices=0),\n",
        "        \"Soil_Type_34\": FeatureSpace.integer_categorical(num_oov_indices=0),\n",
        "        \"Soil_Type_35\": FeatureSpace.integer_categorical(num_oov_indices=0),\n",
        "        \"Soil_Type_36\": FeatureSpace.integer_categorical(num_oov_indices=0),\n",
        "        \"Soil_Type_37\": FeatureSpace.integer_categorical(num_oov_indices=0),\n",
        "        \"Soil_Type_38\": FeatureSpace.integer_categorical(num_oov_indices=0),\n",
        "        \"Soil_Type_39\": FeatureSpace.integer_categorical(num_oov_indices=0),\n",
        "        \"Soil_Type_40\": FeatureSpace.integer_categorical(num_oov_indices=0),\n",
        "\n",
        "    },\n",
        "    output_mode=\"concat\",\n",
        ")"
      ],
      "metadata": {
        "id": "oa_XAyHa3lLX"
      },
      "execution_count": 15,
      "outputs": []
    },
    {
      "cell_type": "code",
      "source": [
        "train_ds_with_no_labels = train_ds.map(lambda x, _: x)\n",
        "feature_space.adapt(train_ds_with_no_labels)"
      ],
      "metadata": {
        "id": "GMGK5I853oq6"
      },
      "execution_count": 16,
      "outputs": []
    },
    {
      "cell_type": "code",
      "source": [
        "for x, _ in train_ds.take(1):\n",
        "    preprocessed_x = feature_space(x)\n",
        "    print(\"preprocessed_x.shape:\", preprocessed_x.shape)\n",
        "    print(\"preprocessed_x.dtype:\", preprocessed_x.dtype)"
      ],
      "metadata": {
        "id": "QQCBHoIp3ssZ",
        "colab": {
          "base_uri": "https://localhost:8080/"
        },
        "outputId": "89c6eb84-03f2-46af-d8ce-c1d0bfc13d35"
      },
      "execution_count": 17,
      "outputs": [
        {
          "output_type": "stream",
          "name": "stdout",
          "text": [
            "preprocessed_x.shape: (32, 14993)\n",
            "preprocessed_x.dtype: <dtype: 'float32'>\n"
          ]
        }
      ]
    },
    {
      "cell_type": "code",
      "source": [
        "preprocessed_train_ds = train_ds.map(\n",
        "    lambda x, y: (feature_space(x), y), num_parallel_calls=tf.data.AUTOTUNE\n",
        ")\n",
        "preprocessed_train_ds = preprocessed_train_ds.prefetch(tf.data.AUTOTUNE)\n",
        "\n",
        "preprocessed_val_ds = val_ds.map(\n",
        "    lambda x, y: (feature_space(x), y), num_parallel_calls=tf.data.AUTOTUNE\n",
        ")\n",
        "preprocessed_val_ds = preprocessed_val_ds.prefetch(tf.data.AUTOTUNE)"
      ],
      "metadata": {
        "id": "36LRo0G-3xFr"
      },
      "execution_count": 18,
      "outputs": []
    },
    {
      "cell_type": "code",
      "source": [
        "dict_inputs = feature_space.get_inputs()\n",
        "encoded_features = feature_space.get_encoded_features()\n",
        "\n",
        "x = keras.layers.Dense(32, activation=\"relu\")(encoded_features)\n",
        "x = keras.layers.Dropout(0.5)(x)\n",
        "predictions = keras.layers.Dense(1, activation=\"sigmoid\")(x)\n",
        "\n",
        "training_model = keras.Model(inputs=encoded_features, outputs=predictions)\n",
        "training_model.compile(\n",
        "    optimizer=\"adam\", loss=\"binary_crossentropy\", metrics=[\"accuracy\"]\n",
        ")\n",
        "\n",
        "inference_model = keras.Model(inputs=dict_inputs, outputs=predictions)"
      ],
      "metadata": {
        "id": "k2xzf1H1Fkd_"
      },
      "execution_count": 37,
      "outputs": []
    },
    {
      "cell_type": "code",
      "source": [
        "training_model.fit(\n",
        "    preprocessed_train_ds, epochs=10, validation_data=preprocessed_val_ds\n",
        ")"
      ],
      "metadata": {
        "id": "I5bdNyTN34ET"
      },
      "execution_count": null,
      "outputs": []
    }
  ]
}